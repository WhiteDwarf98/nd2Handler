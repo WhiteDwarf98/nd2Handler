{
 "cells": [
  {
   "cell_type": "code",
   "execution_count": 2,
   "metadata": {},
   "outputs": [],
   "source": [
    "import functions"
   ]
  },
  {
   "cell_type": "code",
   "execution_count": 3,
   "metadata": {},
   "outputs": [
    {
     "name": "stdout",
     "output_type": "stream",
     "text": [
      "Processing file: C:/Users/Kai_F/Documents/GitHub/carolyn-nd2/input\\CONTROL (-)-VISC-1.nd2\n",
      "Available axes: ['x', 'y', 'c', 't', 'z']\n",
      "Saved C:/Users/Kai_F/Documents/GitHub/carolyn-nd2/output\\CONTROL (-)-VISC-1_channel_1_frame_1_z_1.jpg\n",
      "Saved C:/Users/Kai_F/Documents/GitHub/carolyn-nd2/output\\CONTROL (-)-VISC-1_channel_1_frame_1_z_2.jpg\n",
      "Saved C:/Users/Kai_F/Documents/GitHub/carolyn-nd2/output\\CONTROL (-)-VISC-1_channel_1_frame_1_z_3.jpg\n",
      "Saved C:/Users/Kai_F/Documents/GitHub/carolyn-nd2/output\\CONTROL (-)-VISC-1_channel_1_frame_1_z_4.jpg\n",
      "Saved C:/Users/Kai_F/Documents/GitHub/carolyn-nd2/output\\CONTROL (-)-VISC-1_channel_1_frame_1_z_5.jpg\n",
      "Saved C:/Users/Kai_F/Documents/GitHub/carolyn-nd2/output\\CONTROL (-)-VISC-1_channel_1_frame_1_z_6.jpg\n",
      "Saved C:/Users/Kai_F/Documents/GitHub/carolyn-nd2/output\\CONTROL (-)-VISC-1_channel_1_frame_1_z_7.jpg\n",
      "Saved C:/Users/Kai_F/Documents/GitHub/carolyn-nd2/output\\CONTROL (-)-VISC-1_channel_1_frame_1_z_8.jpg\n",
      "Saved C:/Users/Kai_F/Documents/GitHub/carolyn-nd2/output\\CONTROL (-)-VISC-1_channel_1_frame_1_z_9.jpg\n",
      "Saved C:/Users/Kai_F/Documents/GitHub/carolyn-nd2/output\\CONTROL (-)-VISC-1_channel_1_frame_1_z_10.jpg\n",
      "Saved C:/Users/Kai_F/Documents/GitHub/carolyn-nd2/output\\CONTROL (-)-VISC-1_channel_1_frame_1_z_11.jpg\n",
      "Saved C:/Users/Kai_F/Documents/GitHub/carolyn-nd2/output\\CONTROL (-)-VISC-1_channel_1_frame_1_z_12.jpg\n",
      "Saved C:/Users/Kai_F/Documents/GitHub/carolyn-nd2/output\\CONTROL (-)-VISC-1_channel_1_frame_1_z_13.jpg\n",
      "Saved C:/Users/Kai_F/Documents/GitHub/carolyn-nd2/output\\CONTROL (-)-VISC-1_channel_1_frame_1_z_14.jpg\n",
      "Saved C:/Users/Kai_F/Documents/GitHub/carolyn-nd2/output\\CONTROL (-)-VISC-1_channel_1_frame_1_z_15.jpg\n",
      "Saved C:/Users/Kai_F/Documents/GitHub/carolyn-nd2/output\\CONTROL (-)-VISC-1_channel_1_frame_1_z_16.jpg\n",
      "Saved C:/Users/Kai_F/Documents/GitHub/carolyn-nd2/output\\CONTROL (-)-VISC-1_channel_1_frame_1_z_17.jpg\n",
      "Saved C:/Users/Kai_F/Documents/GitHub/carolyn-nd2/output\\CONTROL (-)-VISC-1_channel_1_frame_1_z_18.jpg\n",
      "Saved C:/Users/Kai_F/Documents/GitHub/carolyn-nd2/output\\CONTROL (-)-VISC-1_channel_1_frame_1_z_19.jpg\n",
      "Saved C:/Users/Kai_F/Documents/GitHub/carolyn-nd2/output\\CONTROL (-)-VISC-1_channel_1_frame_1_z_20.jpg\n",
      "Saved C:/Users/Kai_F/Documents/GitHub/carolyn-nd2/output\\CONTROL (-)-VISC-1_channel_1_frame_1_z_21.jpg\n",
      "Saved C:/Users/Kai_F/Documents/GitHub/carolyn-nd2/output\\CONTROL (-)-VISC-1_channel_1_frame_1_z_22.jpg\n",
      "Saved C:/Users/Kai_F/Documents/GitHub/carolyn-nd2/output\\CONTROL (-)-VISC-1_channel_1_frame_1_z_23.jpg\n",
      "Saved C:/Users/Kai_F/Documents/GitHub/carolyn-nd2/output\\CONTROL (-)-VISC-1_channel_1_frame_1_z_24.jpg\n",
      "Saved C:/Users/Kai_F/Documents/GitHub/carolyn-nd2/output\\CONTROL (-)-VISC-1_channel_1_frame_1_z_25.jpg\n",
      "Saved C:/Users/Kai_F/Documents/GitHub/carolyn-nd2/output\\CONTROL (-)-VISC-1_channel_1_frame_1_z_26.jpg\n",
      "Saved C:/Users/Kai_F/Documents/GitHub/carolyn-nd2/output\\CONTROL (-)-VISC-1_channel_1_frame_1_z_27.jpg\n",
      "Saved C:/Users/Kai_F/Documents/GitHub/carolyn-nd2/output\\CONTROL (-)-VISC-1_channel_1_frame_1_z_28.jpg\n",
      "Saved C:/Users/Kai_F/Documents/GitHub/carolyn-nd2/output\\CONTROL (-)-VISC-1_channel_1_frame_1_z_29.jpg\n",
      "Saved C:/Users/Kai_F/Documents/GitHub/carolyn-nd2/output\\CONTROL (-)-VISC-1_channel_1_frame_1_z_30.jpg\n",
      "Saved C:/Users/Kai_F/Documents/GitHub/carolyn-nd2/output\\CONTROL (-)-VISC-1_channel_2_frame_1_z_1.jpg\n",
      "Saved C:/Users/Kai_F/Documents/GitHub/carolyn-nd2/output\\CONTROL (-)-VISC-1_channel_2_frame_1_z_2.jpg\n",
      "Saved C:/Users/Kai_F/Documents/GitHub/carolyn-nd2/output\\CONTROL (-)-VISC-1_channel_2_frame_1_z_3.jpg\n",
      "Saved C:/Users/Kai_F/Documents/GitHub/carolyn-nd2/output\\CONTROL (-)-VISC-1_channel_2_frame_1_z_4.jpg\n",
      "Saved C:/Users/Kai_F/Documents/GitHub/carolyn-nd2/output\\CONTROL (-)-VISC-1_channel_2_frame_1_z_5.jpg\n",
      "Saved C:/Users/Kai_F/Documents/GitHub/carolyn-nd2/output\\CONTROL (-)-VISC-1_channel_2_frame_1_z_6.jpg\n",
      "Saved C:/Users/Kai_F/Documents/GitHub/carolyn-nd2/output\\CONTROL (-)-VISC-1_channel_2_frame_1_z_7.jpg\n",
      "Saved C:/Users/Kai_F/Documents/GitHub/carolyn-nd2/output\\CONTROL (-)-VISC-1_channel_2_frame_1_z_8.jpg\n",
      "Saved C:/Users/Kai_F/Documents/GitHub/carolyn-nd2/output\\CONTROL (-)-VISC-1_channel_2_frame_1_z_9.jpg\n",
      "Saved C:/Users/Kai_F/Documents/GitHub/carolyn-nd2/output\\CONTROL (-)-VISC-1_channel_2_frame_1_z_10.jpg\n",
      "Saved C:/Users/Kai_F/Documents/GitHub/carolyn-nd2/output\\CONTROL (-)-VISC-1_channel_2_frame_1_z_11.jpg\n",
      "Saved C:/Users/Kai_F/Documents/GitHub/carolyn-nd2/output\\CONTROL (-)-VISC-1_channel_2_frame_1_z_12.jpg\n",
      "Saved C:/Users/Kai_F/Documents/GitHub/carolyn-nd2/output\\CONTROL (-)-VISC-1_channel_2_frame_1_z_13.jpg\n",
      "Saved C:/Users/Kai_F/Documents/GitHub/carolyn-nd2/output\\CONTROL (-)-VISC-1_channel_2_frame_1_z_14.jpg\n",
      "Saved C:/Users/Kai_F/Documents/GitHub/carolyn-nd2/output\\CONTROL (-)-VISC-1_channel_2_frame_1_z_15.jpg\n",
      "Saved C:/Users/Kai_F/Documents/GitHub/carolyn-nd2/output\\CONTROL (-)-VISC-1_channel_2_frame_1_z_16.jpg\n",
      "Saved C:/Users/Kai_F/Documents/GitHub/carolyn-nd2/output\\CONTROL (-)-VISC-1_channel_2_frame_1_z_17.jpg\n",
      "Saved C:/Users/Kai_F/Documents/GitHub/carolyn-nd2/output\\CONTROL (-)-VISC-1_channel_2_frame_1_z_18.jpg\n",
      "Saved C:/Users/Kai_F/Documents/GitHub/carolyn-nd2/output\\CONTROL (-)-VISC-1_channel_2_frame_1_z_19.jpg\n",
      "Saved C:/Users/Kai_F/Documents/GitHub/carolyn-nd2/output\\CONTROL (-)-VISC-1_channel_2_frame_1_z_20.jpg\n",
      "Saved C:/Users/Kai_F/Documents/GitHub/carolyn-nd2/output\\CONTROL (-)-VISC-1_channel_2_frame_1_z_21.jpg\n",
      "Saved C:/Users/Kai_F/Documents/GitHub/carolyn-nd2/output\\CONTROL (-)-VISC-1_channel_2_frame_1_z_22.jpg\n",
      "Saved C:/Users/Kai_F/Documents/GitHub/carolyn-nd2/output\\CONTROL (-)-VISC-1_channel_2_frame_1_z_23.jpg\n",
      "Saved C:/Users/Kai_F/Documents/GitHub/carolyn-nd2/output\\CONTROL (-)-VISC-1_channel_2_frame_1_z_24.jpg\n",
      "Saved C:/Users/Kai_F/Documents/GitHub/carolyn-nd2/output\\CONTROL (-)-VISC-1_channel_2_frame_1_z_25.jpg\n",
      "Saved C:/Users/Kai_F/Documents/GitHub/carolyn-nd2/output\\CONTROL (-)-VISC-1_channel_2_frame_1_z_26.jpg\n",
      "Saved C:/Users/Kai_F/Documents/GitHub/carolyn-nd2/output\\CONTROL (-)-VISC-1_channel_2_frame_1_z_27.jpg\n",
      "Saved C:/Users/Kai_F/Documents/GitHub/carolyn-nd2/output\\CONTROL (-)-VISC-1_channel_2_frame_1_z_28.jpg\n",
      "Saved C:/Users/Kai_F/Documents/GitHub/carolyn-nd2/output\\CONTROL (-)-VISC-1_channel_2_frame_1_z_29.jpg\n",
      "Saved C:/Users/Kai_F/Documents/GitHub/carolyn-nd2/output\\CONTROL (-)-VISC-1_channel_2_frame_1_z_30.jpg\n"
     ]
    }
   ],
   "source": [
    "functions.process_nd2_folder(\n",
    "    input_folder = \"C:/Users/Kai_F/Documents/GitHub/carolyn-nd2/input\",  # Folder with ND2 files\n",
    "    output_path = \"C:/Users/Kai_F/Documents/GitHub/carolyn-nd2/output\",  # Path to save the output files\n",
    "    channel_range= (1, 2),  # Start and end channels (inclusive)\n",
    "    frame_range= (1,1), # Start and end frames (inclusive)\n",
    "    z_range = (1, 30), # Start and end z-planes (inclusive)\n",
    "    contrast_of_channels = {\n",
    "        1: (500, 800),  # Channel 2: Min=500, Max=800\n",
    "        2: (300, 700),  # Channel 3: Min=300, Max=700\n",
    "        # Add more channels if necessary\n",
    "    }\n",
    ")"
   ]
  },
  {
   "cell_type": "code",
   "execution_count": null,
   "metadata": {},
   "outputs": [],
   "source": []
  }
 ],
 "metadata": {
  "kernelspec": {
   "display_name": "nd2venv",
   "language": "python",
   "name": "python3"
  },
  "language_info": {
   "codemirror_mode": {
    "name": "ipython",
    "version": 3
   },
   "file_extension": ".py",
   "mimetype": "text/x-python",
   "name": "python",
   "nbconvert_exporter": "python",
   "pygments_lexer": "ipython3",
   "version": "3.12.3"
  }
 },
 "nbformat": 4,
 "nbformat_minor": 2
}
