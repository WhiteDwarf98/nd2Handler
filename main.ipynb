{
 "cells": [
  {
   "cell_type": "code",
   "execution_count": 1,
   "metadata": {},
   "outputs": [],
   "source": [
    "import functions"
   ]
  },
  {
   "cell_type": "code",
   "execution_count": 13,
   "metadata": {},
   "outputs": [
    {
     "name": "stdout",
     "output_type": "stream",
     "text": [
      "Processing file: C:\\Users\\Kai_F\\Documents\\GitHub\\carolyn-nd2\\input\\WellG07_Channel405,477,638,DIA_Seq0004.nd2\n",
      "Available axes: ['x', 'y', 'c', 't', 'v']\n",
      "Saved C:\\Users\\Kai_F\\Documents\\GitHub\\carolyn-nd2\\output\\WellG07_Channel405,477,638,DIA_Seq0004_view_2_channel_2_frame_1.jpg\n",
      "Saved C:\\Users\\Kai_F\\Documents\\GitHub\\carolyn-nd2\\output\\WellG07_Channel405,477,638,DIA_Seq0004_view_2_channel_3_frame_1.jpg\n",
      "Saved C:\\Users\\Kai_F\\Documents\\GitHub\\carolyn-nd2\\output\\WellG07_Channel405,477,638,DIA_Seq0004_view_2_channel_4_frame_1.jpg\n",
      "Saved C:\\Users\\Kai_F\\Documents\\GitHub\\carolyn-nd2\\output\\WellG07_Channel405,477,638,DIA_Seq0004_view_3_channel_2_frame_1.jpg\n",
      "Saved C:\\Users\\Kai_F\\Documents\\GitHub\\carolyn-nd2\\output\\WellG07_Channel405,477,638,DIA_Seq0004_view_3_channel_3_frame_1.jpg\n",
      "Saved C:\\Users\\Kai_F\\Documents\\GitHub\\carolyn-nd2\\output\\WellG07_Channel405,477,638,DIA_Seq0004_view_3_channel_4_frame_1.jpg\n",
      "Saved C:\\Users\\Kai_F\\Documents\\GitHub\\carolyn-nd2\\output\\WellG07_Channel405,477,638,DIA_Seq0004_view_4_channel_2_frame_1.jpg\n",
      "Saved C:\\Users\\Kai_F\\Documents\\GitHub\\carolyn-nd2\\output\\WellG07_Channel405,477,638,DIA_Seq0004_view_4_channel_3_frame_1.jpg\n",
      "Saved C:\\Users\\Kai_F\\Documents\\GitHub\\carolyn-nd2\\output\\WellG07_Channel405,477,638,DIA_Seq0004_view_4_channel_4_frame_1.jpg\n",
      "Saved C:\\Users\\Kai_F\\Documents\\GitHub\\carolyn-nd2\\output\\WellG07_Channel405,477,638,DIA_Seq0004_view_5_channel_2_frame_1.jpg\n",
      "Saved C:\\Users\\Kai_F\\Documents\\GitHub\\carolyn-nd2\\output\\WellG07_Channel405,477,638,DIA_Seq0004_view_5_channel_3_frame_1.jpg\n",
      "Saved C:\\Users\\Kai_F\\Documents\\GitHub\\carolyn-nd2\\output\\WellG07_Channel405,477,638,DIA_Seq0004_view_5_channel_4_frame_1.jpg\n"
     ]
    }
   ],
   "source": [
    "\n",
    "functions.process_nd2_folder(\n",
    "    input_folder = r\"C:\\Users\\Kai_F\\Documents\\GitHub\\carolyn-nd2\\input\",  # Folder with ND2 files\n",
    "    output_path = r\"C:\\Users\\Kai_F\\Documents\\GitHub\\carolyn-nd2\\output\",  # Path to save the output files\n",
    "    channel_range= (2, 4),  # Start and end channels (inclusive)\n",
    "    frame_range= (1,1), # Start and end frames (inclusive)\n",
    "    view_range=(2,5),\n",
    "    # z_range = {\n",
    "    #     1: (2,2),\n",
    "    #     2: (1,2),\n",
    "    # },\n",
    "    z_range = (1,1), # Start and end z-planes (inclusive)\n",
    "    use_mip = False, # True or False\n",
    "    contrast_of_channels = {\n",
    "        2: (500, 800),  # Channel 2: Min=500, Max=800\n",
    "        3: (300, 700),  # Channel 3: Min=300, Max=700\n",
    "        4: (300, 700),  # Channel 3: Min=300, Max=700\n",
    "        # Add more channels if necessary\n",
    "    }\n",
    ")"
   ]
  },
  {
   "cell_type": "code",
   "execution_count": 5,
   "metadata": {},
   "outputs": [
    {
     "name": "stdout",
     "output_type": "stream",
     "text": [
      "Processing file: C:\\Users\\Kai_F\\Documents\\GitHub\\carolyn-nd2\\input\\GFP_spin_r_fr_stack001.nd2\n",
      "Available axes: ['x', 'y', 'c', 't', 'z', 'v']\n",
      "Saved C:\\Users\\Kai_F\\Documents\\GitHub\\carolyn-nd2\\output\\GFP_spin_r_fr_stack001_view_1_channel_1_frame_1_MIP_z_5-8.jpg\n",
      "Saved GFP_spin_r_fr_stack001_view_1_channel_1_frame_1_MIP_z_5-8\n",
      "Saved C:\\Users\\Kai_F\\Documents\\GitHub\\carolyn-nd2\\output\\GFP_spin_r_fr_stack001_view_1_channel_2_frame_1_MIP_z_1-10.jpg\n",
      "Saved GFP_spin_r_fr_stack001_view_1_channel_2_frame_1_MIP_z_1-10\n",
      "Saved C:\\Users\\Kai_F\\Documents\\GitHub\\carolyn-nd2\\output\\GFP_spin_r_fr_stack001_view_2_channel_1_frame_1_MIP_z_5-8.jpg\n",
      "Saved GFP_spin_r_fr_stack001_view_2_channel_1_frame_1_MIP_z_5-8\n",
      "Saved C:\\Users\\Kai_F\\Documents\\GitHub\\carolyn-nd2\\output\\GFP_spin_r_fr_stack001_view_2_channel_2_frame_1_MIP_z_1-10.jpg\n",
      "Saved GFP_spin_r_fr_stack001_view_2_channel_2_frame_1_MIP_z_1-10\n"
     ]
    }
   ],
   "source": [
    "\n",
    "functions.process_nd2_folder(\n",
    "    input_folder = r\"C:\\Users\\Kai_F\\Documents\\GitHub\\carolyn-nd2\\input\",  # Folder with ND2 files\n",
    "    output_path = r\"C:\\Users\\Kai_F\\Documents\\GitHub\\carolyn-nd2\\output\",  # Path to save the output files\n",
    "    channel_range = (1, 2),  # Start and end channels (inclusive)\n",
    "    frame_range = (1,1), # Start and end frames (inclusive)\n",
    "    view_range =(1,2),\n",
    "    z_range = {\n",
    "        1: (5,8),\n",
    "        2: (1,10),\n",
    "    },\n",
    "    # z_range = (5,8), # Start and end z-planes (inclusive)\n",
    "    use_mip = True, # True or False\n",
    "    contrast_of_channels = {\n",
    "        1: (500, 800),  # Channel 2: Min=500, Max=800\n",
    "        2: (300, 700),  # Channel 3: Min=300, Max=700\n",
    "        # Add more channels if necessary\n",
    "    }\n",
    ")"
   ]
  },
  {
   "cell_type": "code",
   "execution_count": null,
   "metadata": {},
   "outputs": [],
   "source": []
  }
 ],
 "metadata": {
  "kernelspec": {
   "display_name": "nd2venv",
   "language": "python",
   "name": "python3"
  },
  "language_info": {
   "codemirror_mode": {
    "name": "ipython",
    "version": 3
   },
   "file_extension": ".py",
   "mimetype": "text/x-python",
   "name": "python",
   "nbconvert_exporter": "python",
   "pygments_lexer": "ipython3",
   "version": "3.12.3"
  }
 },
 "nbformat": 4,
 "nbformat_minor": 2
}
