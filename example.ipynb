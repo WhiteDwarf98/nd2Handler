{
 "cells": [
  {
   "cell_type": "markdown",
   "metadata": {},
   "source": [
    "# Examplary call of nd2handler\n",
    "A String to parse supports:\n",
    "- Comma-separated values (e.g., \"1,3,5\")\n",
    "- Hyphenated ranges (e.g., \"2-4\" becomes [2,3,4])\n",
    "- A combination of both (e.g. \"1-3,5,6\")\n",
    "\n",
    "## 1. Creating a new instance of the nd2Handler class"
   ]
  },
  {
   "cell_type": "code",
   "execution_count": 3,
   "metadata": {},
   "outputs": [],
   "source": [
    "import nd2\n",
    "myHandler = nd2.nd2Handler(\n",
    "    #######\n",
    "    # Channels / color axis (c)\n",
    "    # (String to parse): Select which channels to export (channel indexing starts at 1).\n",
    "    channels=\"1,2\",\n",
    "    \n",
    "    #######\n",
    "    # Frames / time axis (t)\n",
    "    # (String to parse): Select which time frames to export.\n",
    "    frames=\"1\",\n",
    "    \n",
    "    #######\n",
    "    # Views / series (v)\n",
    "    # (String to parse): Select which views or positions to export (for multi-position acquisitions).\n",
    "    views=\"2-5\",\n",
    "    \n",
    "    #######\n",
    "    # Z-planes / z-axis (z)\n",
    "    # Define the Z-stack slices to export for each channel.\n",
    "    # Here: For channels 1 and 2, export Z-slices 1 to 3. (String to parse each)\n",
    "    z_layers_of_channels={\n",
    "        \"1-2\": \"1-3\",\n",
    "    },\n",
    "    \n",
    "    #######\n",
    "    # Brightness / contrast settings\n",
    "    # Define per-channel (string to parse) minimum and maximum intensity values (tuple) for scaling.\n",
    "    # These values are mapped to the 0–255 range.\n",
    "    contrast_of_channels={\n",
    "        \"1\": (500, 800),  # Channel 1: min=500, max=800\n",
    "        \"2\": (300, 700),  # Channel 2: min=300, max=700\n",
    "    },\n",
    "\n",
    "    #######\n",
    "    # Optional Offset settings\n",
    "    # Define per-channel (string to parse) pixel intensity offset (int)\n",
    "    # offset_of_channels={\n",
    "    #     #\"1\": 1000,  # -100 offset for channels 1 & 2\n",
    "    #     \"2\": 1000,  # no offset for channel 3\n",
    "    # },\n",
    "    \n",
    "    #######\n",
    "    # General settings\n",
    "    file_format=\"tif\",             # Choose 'jpg' or 'tif' for output format | jpg -> 8bit, tif -> 16bit\n",
    "    stack_z_to_tiff=False,         # If True, stack multiple Z-slices into a single multipage TIFF (only for 'tif' output)\n",
    "    do_intensity_projection=\"max\", # Perform intensity projection across Z (choose 'max' or 'average')\n",
    ")\n"
   ]
  },
  {
   "cell_type": "markdown",
   "metadata": {},
   "source": [
    "## 2. Process a folder with the created nd2Handler instance"
   ]
  },
  {
   "cell_type": "code",
   "execution_count": null,
   "metadata": {},
   "outputs": [],
   "source": [
    "# Start processing all ND2 files in the input folder\n",
    "myHandler.process_folder(\n",
    "    input_folder=r\"C:\\Users\\Kai_F\\Documents\\GitHub\\carolyn-nd2\\input\",   # Folder containing ND2 files\n",
    "    output_path=r\"C:\\Users\\Kai_F\\Documents\\GitHub\\carolyn-nd2\\output\",   # Folder where output images will be saved\n",
    ")"
   ]
  },
  {
   "cell_type": "markdown",
   "metadata": {},
   "source": [
    "## 3. Helpful function get_axis_info\n",
    "This function can show the available axes and their ranges. That may be helpful to find the correct settings in step 1."
   ]
  },
  {
   "cell_type": "code",
   "execution_count": 14,
   "metadata": {},
   "outputs": [
    {
     "name": "stdout",
     "output_type": "stream",
     "text": [
      "Available axes in nd2-file:\n",
      "['x', 'y', 'c', 't', 'z', 'v']\n",
      "Axis 'c': Range 1 to 2\n",
      "Axis 't': Range 1 to 1\n",
      "Axis 'z': Range 1 to 10\n",
      "Axis 'v': Range 1 to 5\n",
      "Axis 'x': Range 1 to 2720\n",
      "Axis 'y': Range 1 to 2720\n"
     ]
    }
   ],
   "source": [
    "nd2.get_axes_info(r\"C:\\Users\\Kai_F\\Documents\\GitHub\\carolyn-nd2\\input\\GFP_spin_r_fr_stack001.nd2\")"
   ]
  }
 ],
 "metadata": {
  "kernelspec": {
   "display_name": "Python 3",
   "language": "python",
   "name": "python3"
  },
  "language_info": {
   "codemirror_mode": {
    "name": "ipython",
    "version": 3
   },
   "file_extension": ".py",
   "mimetype": "text/x-python",
   "name": "python",
   "nbconvert_exporter": "python",
   "pygments_lexer": "ipython3",
   "version": "3.12.3"
  }
 },
 "nbformat": 4,
 "nbformat_minor": 2
}
