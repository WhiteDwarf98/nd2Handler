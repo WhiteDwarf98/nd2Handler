{
 "cells": [
  {
   "cell_type": "code",
   "execution_count": 1,
   "metadata": {},
   "outputs": [],
   "source": [
    "import nd2handler"
   ]
  },
  {
   "cell_type": "code",
   "execution_count": 2,
   "metadata": {},
   "outputs": [
    {
     "name": "stdout",
     "output_type": "stream",
     "text": [
      "Available axes in nd2-file:\n",
      "['x', 'y', 'c', 't', 'z', 'v']\n",
      "Axis 'c': Range 1 to 2\n",
      "Axis 't': Range 1 to 1\n",
      "Axis 'z': Range 1 to 10\n",
      "Axis 'v': Range 1 to 5\n",
      "Axis 'x': Range 1 to 2720\n",
      "Axis 'y': Range 1 to 2720\n"
     ]
    }
   ],
   "source": [
    "nd2handler.get_axes_info(\"input/GFP_spin_r_fr_stack001.nd2\")"
   ]
  },
  {
   "cell_type": "code",
   "execution_count": 3,
   "metadata": {},
   "outputs": [],
   "source": [
    "nd2 = nd2handler.nd2Handler(\n",
    "    #input_folder = r\"C:\\Users\\Kai_F\\Documents\\GitHub\\carolyn-nd2\\input\",  # Folder with ND2 files\n",
    "    #output_path = r\"C:\\Users\\Kai_F\\Documents\\GitHub\\carolyn-nd2\\output\",  # Path to save the output files\n",
    "    #######\n",
    "    # Channels / color axis (c) - (start, end) - inclusive\n",
    "    channel_range= \"1,2\",\n",
    "    #######\n",
    "    # Frames / time axis (t) - (start, end) - inclusive\n",
    "    frame_range = \"1\",\n",
    "    #######\n",
    "    # Series / view axis (v) - (start, end) - inclusive,\n",
    "    view_range=\"2-5\",\n",
    "    #######\n",
    "    # z-planes / z-axis (z)\n",
    "    # either tuple (start, end) - inclusive,\n",
    "    # or dictionary of tuples allowing to change the export behavior per channel\n",
    "    # z_range = (1,3),\n",
    "    z_range = {\n",
    "        \"1\": \"2-4\",\n",
    "        \"2\": \"5,6\",\n",
    "    },\n",
    "    # do_intensity_projection = False, # True or False\n",
    "    stack_z_to_tiff = False, # True or False, ignored if file_format = 'jpg'\n",
    "    #######\n",
    "    # Brightness settings\n",
    "    contrast_of_channels = {\n",
    "        \"1\": (500, 800),  # Channel 2: Min=500, Max=800\n",
    "        \"2\": (300, 700),\n",
    "        # Add more channels if necessary\n",
    "    },\n",
    "    offset = 0, # Integer, negative or positive\n",
    "    #######\n",
    "    # Save options\n",
    "file_format = \"jpg\", # 'jpg' or 'tif'       \n",
    ")"
   ]
  },
  {
   "cell_type": "code",
   "execution_count": 4,
   "metadata": {},
   "outputs": [
    {
     "name": "stdout",
     "output_type": "stream",
     "text": [
      "Processing file: GFP_spin_r_fr_stack001.nd2\n",
      "Available axes: ['x', 'y', 'c', 't', 'z', 'v']\n",
      "Saved output2\\GFP_spin_r_fr_stack001_v2_c1_f1_z_2.jpg\n",
      "Saved output2\\GFP_spin_r_fr_stack001_v2_c1_f1_z_3.jpg\n",
      "Saved output2\\GFP_spin_r_fr_stack001_v2_c1_f1_z_4.jpg\n",
      "Saved output2\\GFP_spin_r_fr_stack001_v2_c2_f1_z_5.jpg\n",
      "Saved output2\\GFP_spin_r_fr_stack001_v2_c2_f1_z_6.jpg\n",
      "Saved output2\\GFP_spin_r_fr_stack001_v3_c1_f1_z_2.jpg\n",
      "Saved output2\\GFP_spin_r_fr_stack001_v3_c1_f1_z_3.jpg\n",
      "Saved output2\\GFP_spin_r_fr_stack001_v3_c1_f1_z_4.jpg\n",
      "Saved output2\\GFP_spin_r_fr_stack001_v3_c2_f1_z_5.jpg\n",
      "Saved output2\\GFP_spin_r_fr_stack001_v3_c2_f1_z_6.jpg\n",
      "Saved output2\\GFP_spin_r_fr_stack001_v4_c1_f1_z_2.jpg\n",
      "Saved output2\\GFP_spin_r_fr_stack001_v4_c1_f1_z_3.jpg\n",
      "Saved output2\\GFP_spin_r_fr_stack001_v4_c1_f1_z_4.jpg\n",
      "Saved output2\\GFP_spin_r_fr_stack001_v4_c2_f1_z_5.jpg\n",
      "Saved output2\\GFP_spin_r_fr_stack001_v4_c2_f1_z_6.jpg\n",
      "Saved output2\\GFP_spin_r_fr_stack001_v5_c1_f1_z_2.jpg\n",
      "Saved output2\\GFP_spin_r_fr_stack001_v5_c1_f1_z_3.jpg\n",
      "Saved output2\\GFP_spin_r_fr_stack001_v5_c1_f1_z_4.jpg\n",
      "Saved output2\\GFP_spin_r_fr_stack001_v5_c2_f1_z_5.jpg\n",
      "Saved output2\\GFP_spin_r_fr_stack001_v5_c2_f1_z_6.jpg\n"
     ]
    }
   ],
   "source": [
    "nd2.process_folder(\"input\", \"output2\")"
   ]
  },
  {
   "cell_type": "code",
   "execution_count": null,
   "metadata": {},
   "outputs": [],
   "source": []
  }
 ],
 "metadata": {
  "kernelspec": {
   "display_name": "Python 3",
   "language": "python",
   "name": "python3"
  },
  "language_info": {
   "codemirror_mode": {
    "name": "ipython",
    "version": 3
   },
   "file_extension": ".py",
   "mimetype": "text/x-python",
   "name": "python",
   "nbconvert_exporter": "python",
   "pygments_lexer": "ipython3",
   "version": "3.12.3"
  }
 },
 "nbformat": 4,
 "nbformat_minor": 2
}
